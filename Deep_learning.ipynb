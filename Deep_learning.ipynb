{
  "nbformat": 4,
  "nbformat_minor": 0,
  "metadata": {
    "colab": {
      "provenance": [],
      "authorship_tag": "ABX9TyPtpkCo8AtFmdDS79X9g+g6",
      "include_colab_link": true
    },
    "kernelspec": {
      "name": "python3",
      "display_name": "Python 3"
    },
    "language_info": {
      "name": "python"
    }
  },
  "cells": [
    {
      "cell_type": "markdown",
      "metadata": {
        "id": "view-in-github",
        "colab_type": "text"
      },
      "source": [
        "<a href=\"https://colab.research.google.com/github/sakshid2706/Digit_Recognition/blob/main/Deep_learning.ipynb\" target=\"_parent\"><img src=\"https://colab.research.google.com/assets/colab-badge.svg\" alt=\"Open In Colab\"/></a>"
      ]
    },
    {
      "cell_type": "markdown",
      "source": [
        "This Project is based on the deep learning ie the training of nueral networks.I have used the famous MNIST dataset. This dataset contains handwritten digits with labels which we use to train our model.\n",
        "\n"
      ],
      "metadata": {
        "id": "1yiF22ZSGmdR"
      }
    },
    {
      "cell_type": "code",
      "execution_count": null,
      "metadata": {
        "id": "JBZv2Ck_Akbw"
      },
      "outputs": [],
      "source": [
        "# importing the libraries\n",
        "'''Tensorflow helps to make our work of testing and training easier because of\n",
        "the in built methods in it.'''\n",
        "import tensorflow as tf\n",
        "import numpy as np\n",
        "import matplotlib.pyplot as plt"
      ]
    },
    {
      "cell_type": "code",
      "source": [
        "#loading the dataset\n",
        "digits=tf.keras.datasets.mnist\n",
        "#the data is  already divided in train and test dataset. We are assignning names to the groups\n",
        "(train_digits, train_labels),(test_digits,test_labels)=digits.load_data()"
      ],
      "metadata": {
        "id": "FeSvJ1r4A7ng"
      },
      "execution_count": null,
      "outputs": []
    },
    {
      "cell_type": "code",
      "source": [
        "#checking the version of tensorflow\n",
        "print(tf.__version__)"
      ],
      "metadata": {
        "colab": {
          "base_uri": "https://localhost:8080/"
        },
        "id": "nlt9P5EbBUev",
        "outputId": "d0c4c980-4753-4881-f6f6-0ad0ac0ccb46"
      },
      "execution_count": null,
      "outputs": [
        {
          "output_type": "stream",
          "name": "stdout",
          "text": [
            "2.8.2\n"
          ]
        }
      ]
    },
    {
      "cell_type": "code",
      "source": [
        "#checking the shape.\n",
        "\n",
        "print(train_digits.shape)\n",
        "print(train_labels.shape)\n",
        "\n",
        "print(test_digits.shape)\n",
        "print(test_labels.shape)"
      ],
      "metadata": {
        "colab": {
          "base_uri": "https://localhost:8080/"
        },
        "id": "mtBKWSEeBfkp",
        "outputId": "4c89b8a2-ba6f-4bbb-eb9b-1d3b03c855a7"
      },
      "execution_count": null,
      "outputs": [
        {
          "output_type": "stream",
          "name": "stdout",
          "text": [
            "(60000, 28, 28)\n",
            "(60000,)\n",
            "(10000, 28, 28)\n",
            "(10000,)\n"
          ]
        }
      ]
    },
    {
      "cell_type": "code",
      "source": [
        "# the labeled data array\n",
        "train_labels"
      ],
      "metadata": {
        "colab": {
          "base_uri": "https://localhost:8080/"
        },
        "id": "tu2x82ynBnUd",
        "outputId": "0f29c8b3-5171-45f6-97c2-9237fa19c9f3"
      },
      "execution_count": null,
      "outputs": [
        {
          "output_type": "execute_result",
          "data": {
            "text/plain": [
              "array([5, 0, 4, ..., 5, 6, 8], dtype=uint8)"
            ]
          },
          "metadata": {},
          "execution_count": 24
        }
      ]
    },
    {
      "cell_type": "code",
      "source": [
        "# displaying the image of the digits at 0th index\n",
        "plt.figure()\n",
        "plt.imshow(train_digits[0])\n",
        "plt.colorbar()\n",
        "plt.grid(False)\n",
        "plt.show()"
      ],
      "metadata": {
        "colab": {
          "base_uri": "https://localhost:8080/",
          "height": 265
        },
        "id": "vyTuDkftDO4a",
        "outputId": "d8d7faf3-ab03-418c-bb51-997d6100444d"
      },
      "execution_count": null,
      "outputs": [
        {
          "output_type": "display_data",
          "data": {
            "text/plain": [
              "<Figure size 432x288 with 2 Axes>"
            ],
            "image/png": "[encoded data removed]"
          },
          "metadata": {
            "needs_background": "light"
          }
        }
      ]
    },
    {
      "cell_type": "code",
      "source": [
        "# pixel values range from 0-255 \n",
        "# we scale it down to 0-1 since it is  \n",
        "train_digits=train_digits/255\n",
        "test_digits=test_digits/255"
      ],
      "metadata": {
        "id": "aQRSPOK8E6rA"
      },
      "execution_count": null,
      "outputs": []
    },
    {
      "cell_type": "code",
      "source": [
        "#class_names=[]\n",
        "# plotting the first 25 images\n",
        "plt.figure(figsize=(10,10))\n",
        "for i in range(25):\n",
        "  plt.subplot(5,5,i+1)\n",
        "  plt.imshow(train_digits[i], cmap=plt.cm.binary)\n",
        "  plt.xticks([])\n",
        "  plt.xticks([])\n",
        "  #plt.grid(False)\n",
        "  plt.xlabel(train_labels[i])\n",
        "plt.show()"
      ],
      "metadata": {
        "colab": {
          "base_uri": "https://localhost:8080/",
          "height": 591
        },
        "id": "d5CcAzMMFrfD",
        "outputId": "f7613528-ad58-4481-c6d8-b525eaeb4a3a"
      },
      "execution_count": null,
      "outputs": [
        {
          "output_type": "display_data",
          "data": {
            "text/plain": [
              "<Figure size 720x720 with 25 Axes>"
            ],
            "image/png": "[encoded data removed]"
          },
          "metadata": {
            "needs_background": "light"
          }
        }
      ]
    },
    {
      "cell_type": "markdown",
      "source": [
        "Building the model.\n",
        "\n",
        "Flatten helps to make a 1-D array of the images\n",
        "The activation function used here is relu\n",
        "Activation function are used to help the nueral network learn complex patterns in data.\n",
        "ReLU: ReLU (Rectified Linear Unit) is defined as f(x) = max(0,x)\n",
        "It helps to build a non-linear equation to which helps in learning complex pattern\n",
        "If we would have used a KNN model on the same dataset, we would end up getting a lesser accuracy.This is why we need a to train a nueral network on the model"
      ],
      "metadata": {
        "id": "y48-rhn6Jnn8"
      }
    },
    {
      "cell_type": "code",
      "source": [
        "# model training\n",
        "# flatten helps to make a 1 d array of the images\n",
        "mod=tf.keras.Sequential([\n",
        "    tf.keras.layers.Flatten(input_shape=(28,28)),\n",
        "    tf.keras.layers.Dense(112,activation='relu'),\n",
        "    tf.keras.layers.Dense(10)\n",
        "]\n",
        ")"
      ],
      "metadata": {
        "id": "DRtcia-ZILSV"
      },
      "execution_count": null,
      "outputs": []
    },
    {
      "cell_type": "code",
      "source": [],
      "metadata": {
        "id": "pQXE4RJxdjBJ"
      },
      "execution_count": null,
      "outputs": []
    },
    {
      "cell_type": "code",
      "source": [
        "# compiling the model with the optiizer SGD\n",
        "#logits are the input to the softmax layer(softmax layer helps in giving the output between 0 to 1 )\n",
        "#the loss function checks the difference in expected o/p and the actual o/p\n",
        "mod.compile(\n",
        "    optimizer='SGD',\n",
        "    loss=tf.keras.losses.SparseCategoricalCrossentropy(from_logits=True),\n",
        "    metrics=['accuracy']\n",
        "\n",
        ")"
      ],
      "metadata": {
        "id": "xp73DXi3bLP0"
      },
      "execution_count": null,
      "outputs": []
    },
    {
      "cell_type": "code",
      "source": [
        "#training\n",
        "mod.fit(train_digits,train_labels,epochs=10)"
      ],
      "metadata": {
        "colab": {
          "base_uri": "https://localhost:8080/"
        },
        "id": "tvNtqwPHfmLg",
        "outputId": "0ebe8b94-6d3c-4725-e74b-d5c2d28491ca"
      },
      "execution_count": null,
      "outputs": [
        {
          "output_type": "stream",
          "name": "stdout",
          "text": [
            "Epoch 1/10\n",
            "1875/1875 [==============================] - 4s 2ms/step - loss: 0.6759 - accuracy: 0.8250\n",
            "Epoch 2/10\n",
            "1875/1875 [==============================] - 4s 2ms/step - loss: 0.3392 - accuracy: 0.9057\n",
            "Epoch 3/10\n",
            "1875/1875 [==============================] - 3s 2ms/step - loss: 0.2884 - accuracy: 0.9183\n",
            "Epoch 4/10\n",
            "1875/1875 [==============================] - 3s 2ms/step - loss: 0.2577 - accuracy: 0.9277\n",
            "Epoch 5/10\n",
            "1875/1875 [==============================] - 3s 2ms/step - loss: 0.2343 - accuracy: 0.9344\n",
            "Epoch 6/10\n",
            "1875/1875 [==============================] - 3s 2ms/step - loss: 0.2160 - accuracy: 0.9393\n",
            "Epoch 7/10\n",
            "1875/1875 [==============================] - 3s 2ms/step - loss: 0.2001 - accuracy: 0.9437\n",
            "Epoch 8/10\n",
            "1875/1875 [==============================] - 3s 2ms/step - loss: 0.1868 - accuracy: 0.9474\n",
            "Epoch 9/10\n",
            "1875/1875 [==============================] - 3s 2ms/step - loss: 0.1753 - accuracy: 0.9504\n",
            "Epoch 10/10\n",
            "1875/1875 [==============================] - 3s 2ms/step - loss: 0.1651 - accuracy: 0.9535\n"
          ]
        },
        {
          "output_type": "execute_result",
          "data": {
            "text/plain": [
              "<keras.callbacks.History at 0x7f602925c950>"
            ]
          },
          "metadata": {},
          "execution_count": 30
        }
      ]
    },
    {
      "cell_type": "code",
      "source": [
        "# checking the accuracy of the test case\n",
        "test_loss, test_accu=mod.evaluate(test_digits,test_labels,verbose=2)\n",
        "print('\\n Test accuracy=',test_accu)"
      ],
      "metadata": {
        "id": "bObU1bYNf2jj",
        "colab": {
          "base_uri": "https://localhost:8080/"
        },
        "outputId": "d3429794-60b0-4fb5-bc70-33210a1f6b5b"
      },
      "execution_count": null,
      "outputs": [
        {
          "output_type": "stream",
          "name": "stdout",
          "text": [
            "313/313 - 1s - loss: 0.1645 - accuracy: 0.9524 - 501ms/epoch - 2ms/step\n",
            "\n",
            " Test accuracy= 0.9524000287055969\n"
          ]
        }
      ]
    },
    {
      "cell_type": "code",
      "source": [
        "###### prediction model"
      ],
      "metadata": {
        "id": "GrVNuiurgrA5"
      },
      "execution_count": null,
      "outputs": []
    },
    {
      "cell_type": "code",
      "source": [
        "# added a softmax layer since we want the output to e in between 0 to 1(we need to see the output between this values to analyse better)\n",
        "#earlier we did logits=True since the SparseCategoricalCrossentropy requires the input to be in betwee 0 to 1\n",
        "prob_mod=tf.keras.Sequential([mod,\n",
        "                              tf.keras.layers.Softmax()\n",
        "                              ])"
      ],
      "metadata": {
        "id": "xXY7oGrMnboQ"
      },
      "execution_count": null,
      "outputs": []
    },
    {
      "cell_type": "code",
      "source": [
        "predictions=prob_mod.predict(test_digits)"
      ],
      "metadata": {
        "id": "8fYLox_UnwqO"
      },
      "execution_count": null,
      "outputs": []
    },
    {
      "cell_type": "code",
      "source": [
        "predictions[0]"
      ],
      "metadata": {
        "id": "PuHh5JxBoH9s",
        "colab": {
          "base_uri": "https://localhost:8080/"
        },
        "outputId": "9376336e-13de-46ed-8a0a-3e1e743b48cb"
      },
      "execution_count": null,
      "outputs": [
        {
          "output_type": "execute_result",
          "data": {
            "text/plain": [
              "array([1.6043992e-05, 2.2233574e-07, 3.1678390e-04, 2.3896659e-03,\n",
              "       3.1682299e-07, 3.9577393e-05, 5.3740097e-09, 9.9709868e-01,\n",
              "       9.2584487e-06, 1.2946421e-04], dtype=float32)"
            ]
          },
          "metadata": {},
          "execution_count": 35
        }
      ]
    },
    {
      "cell_type": "code",
      "source": [
        "#predicting the value for the 20th dataset and checking it with the label\n",
        "print(test_labels[20])\n",
        "plt.imshow(test_digits[20],cmap=plt.cm.binary)\n",
        "np.argmax(predictions[20])"
      ],
      "metadata": {
        "id": "rfJQmUKMoPBK",
        "colab": {
          "base_uri": "https://localhost:8080/",
          "height": 300
        },
        "outputId": "8c81e9da-a050-4536-c6b3-a3bcd0cb3624"
      },
      "execution_count": null,
      "outputs": [
        {
          "output_type": "stream",
          "name": "stdout",
          "text": [
            "9\n"
          ]
        },
        {
          "output_type": "execute_result",
          "data": {
            "text/plain": [
              "9"
            ]
          },
          "metadata": {},
          "execution_count": 36
        },
        {
          "output_type": "display_data",
          "data": {
            "text/plain": [
              "<Figure size 432x288 with 1 Axes>"
            ],
            "image/png": "[encoded data removed]"
          },
          "metadata": {
            "needs_background": "light"
          }
        }
      ]
    }
  ]
}